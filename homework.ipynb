{
 "cells": [
  {
   "cell_type": "markdown",
   "metadata": {},
   "source": [
    "### Protein Family Classification"
   ]
  },
  {
   "cell_type": "code",
   "execution_count": 1,
   "metadata": {},
   "outputs": [],
   "source": [
    "import pandas as pd\n",
    "import numpy as np\n",
    "import seaborn as sns\n",
    "import matplotlib.pyplot as plt\n",
    "import tensorflow as tf\n",
    "\n",
    "%matplotlib inline\n",
    "\n",
    "from lazy import lazy\n",
    "from attrdict import AttrDict\n",
    "\n",
    "from sklearn.preprocessing import LabelBinarizer, StandardScaler\n",
    "from sklearn.model_selection import StratifiedShuffleSplit\n",
    "from sklearn import svm\n",
    "from sklearn.manifold import TSNE"
   ]
  },
  {
   "cell_type": "code",
   "execution_count": 2,
   "metadata": {
    "collapsed": true
   },
   "outputs": [],
   "source": [
    "import pickle\n",
    "\n",
    "NUM_EMBED = 100\n",
    "\n",
    "with open('embedding.pickle', 'rb') as f:\n",
    "    codons_embedding = pickle.load(f)\n",
    "    \n",
    "def protein_to_features(line, n=3):\n",
    "    return np.array([codons_embedding[line[n * i : n * i + n]] for i in range(0, len(line) // n)])"
   ]
  },
  {
   "cell_type": "code",
   "execution_count": 3,
   "metadata": {
    "collapsed": true
   },
   "outputs": [],
   "source": [
    "family_classification_metadata = pd.read_table('data/family_classification_metadata.tab')\n",
    "family_classification_sequences = pd.read_table('data/family_classification_sequences.tab')"
   ]
  },
  {
   "cell_type": "code",
   "execution_count": 4,
   "metadata": {},
   "outputs": [
    {
     "data": {
      "text/html": [
       "<div>\n",
       "<style>\n",
       "    .dataframe thead tr:only-child th {\n",
       "        text-align: right;\n",
       "    }\n",
       "\n",
       "    .dataframe thead th {\n",
       "        text-align: left;\n",
       "    }\n",
       "\n",
       "    .dataframe tbody tr th {\n",
       "        vertical-align: top;\n",
       "    }\n",
       "</style>\n",
       "<table border=\"1\" class=\"dataframe\">\n",
       "  <thead>\n",
       "    <tr style=\"text-align: right;\">\n",
       "      <th></th>\n",
       "      <th>SwissProtAccessionID</th>\n",
       "      <th>LongID</th>\n",
       "      <th>ProteinName</th>\n",
       "      <th>FamilyID</th>\n",
       "      <th>FamilyDescription</th>\n",
       "    </tr>\n",
       "  </thead>\n",
       "  <tbody>\n",
       "    <tr>\n",
       "      <th>0</th>\n",
       "      <td>Q6GZX4</td>\n",
       "      <td>001R_FRG3G</td>\n",
       "      <td>Putative transcription factor 001R</td>\n",
       "      <td>Pox_VLTF3</td>\n",
       "      <td>Poxvirus Late Transcription Factor VLTF3 like</td>\n",
       "    </tr>\n",
       "    <tr>\n",
       "      <th>1</th>\n",
       "      <td>Q6GZX3</td>\n",
       "      <td>002L_FRG3G</td>\n",
       "      <td>Uncharacterized protein 002L</td>\n",
       "      <td>DUF230</td>\n",
       "      <td>Poxvirus proteins of unknown function</td>\n",
       "    </tr>\n",
       "    <tr>\n",
       "      <th>2</th>\n",
       "      <td>Q6GZX0</td>\n",
       "      <td>005R_FRG3G</td>\n",
       "      <td>Uncharacterized protein 005R</td>\n",
       "      <td>US22</td>\n",
       "      <td>US22 like</td>\n",
       "    </tr>\n",
       "    <tr>\n",
       "      <th>3</th>\n",
       "      <td>Q91G88</td>\n",
       "      <td>006L_IIV6</td>\n",
       "      <td>Putative KilA-N domain-containing protein 006L</td>\n",
       "      <td>DUF3627</td>\n",
       "      <td>Protein of unknown function (DUF3627)</td>\n",
       "    </tr>\n",
       "    <tr>\n",
       "      <th>4</th>\n",
       "      <td>Q197F3</td>\n",
       "      <td>007R_IIV3</td>\n",
       "      <td>Uncharacterized protein 007R</td>\n",
       "      <td>DUF2738</td>\n",
       "      <td>Protein of unknown function (DUF2738)</td>\n",
       "    </tr>\n",
       "  </tbody>\n",
       "</table>\n",
       "</div>"
      ],
      "text/plain": [
       "  SwissProtAccessionID      LongID  \\\n",
       "0               Q6GZX4  001R_FRG3G   \n",
       "1               Q6GZX3  002L_FRG3G   \n",
       "2               Q6GZX0  005R_FRG3G   \n",
       "3               Q91G88   006L_IIV6   \n",
       "4               Q197F3   007R_IIV3   \n",
       "\n",
       "                                      ProteinName   FamilyID  \\\n",
       "0              Putative transcription factor 001R  Pox_VLTF3   \n",
       "1                    Uncharacterized protein 002L     DUF230   \n",
       "2                    Uncharacterized protein 005R       US22   \n",
       "3  Putative KilA-N domain-containing protein 006L    DUF3627   \n",
       "4                    Uncharacterized protein 007R    DUF2738   \n",
       "\n",
       "                               FamilyDescription  \n",
       "0  Poxvirus Late Transcription Factor VLTF3 like  \n",
       "1          Poxvirus proteins of unknown function  \n",
       "2                                      US22 like  \n",
       "3          Protein of unknown function (DUF3627)  \n",
       "4          Protein of unknown function (DUF2738)  "
      ]
     },
     "execution_count": 4,
     "metadata": {},
     "output_type": "execute_result"
    }
   ],
   "source": [
    "family_classification_metadata.head()"
   ]
  },
  {
   "cell_type": "code",
   "execution_count": 5,
   "metadata": {},
   "outputs": [
    {
     "data": {
      "text/html": [
       "<div>\n",
       "<style>\n",
       "    .dataframe thead tr:only-child th {\n",
       "        text-align: right;\n",
       "    }\n",
       "\n",
       "    .dataframe thead th {\n",
       "        text-align: left;\n",
       "    }\n",
       "\n",
       "    .dataframe tbody tr th {\n",
       "        vertical-align: top;\n",
       "    }\n",
       "</style>\n",
       "<table border=\"1\" class=\"dataframe\">\n",
       "  <thead>\n",
       "    <tr style=\"text-align: right;\">\n",
       "      <th></th>\n",
       "      <th>Sequences</th>\n",
       "    </tr>\n",
       "  </thead>\n",
       "  <tbody>\n",
       "    <tr>\n",
       "      <th>0</th>\n",
       "      <td>MAFSAEDVLKEYDRRRRMEALLLSLYYPNDRKLLDYKEWSPPRVQV...</td>\n",
       "    </tr>\n",
       "    <tr>\n",
       "      <th>1</th>\n",
       "      <td>MSIIGATRLQNDKSDTYSAGPCYAGGCSAFTPRGTCGKDWDLGEQT...</td>\n",
       "    </tr>\n",
       "    <tr>\n",
       "      <th>2</th>\n",
       "      <td>MQNPLPEVMSPEHDKRTTTPMSKEANKFIRELDKKPGDLAVVSDFV...</td>\n",
       "    </tr>\n",
       "    <tr>\n",
       "      <th>3</th>\n",
       "      <td>MDSLNEVCYEQIKGTFYKGLFGDFPLIVDKKTGCFNATKLCVLGGK...</td>\n",
       "    </tr>\n",
       "    <tr>\n",
       "      <th>4</th>\n",
       "      <td>MEAKNITIDNTTYNFFKFYNINQPLTNLKYLNSERLCFSNAVMGKI...</td>\n",
       "    </tr>\n",
       "  </tbody>\n",
       "</table>\n",
       "</div>"
      ],
      "text/plain": [
       "                                           Sequences\n",
       "0  MAFSAEDVLKEYDRRRRMEALLLSLYYPNDRKLLDYKEWSPPRVQV...\n",
       "1  MSIIGATRLQNDKSDTYSAGPCYAGGCSAFTPRGTCGKDWDLGEQT...\n",
       "2  MQNPLPEVMSPEHDKRTTTPMSKEANKFIRELDKKPGDLAVVSDFV...\n",
       "3  MDSLNEVCYEQIKGTFYKGLFGDFPLIVDKKTGCFNATKLCVLGGK...\n",
       "4  MEAKNITIDNTTYNFFKFYNINQPLTNLKYLNSERLCFSNAVMGKI..."
      ]
     },
     "execution_count": 5,
     "metadata": {},
     "output_type": "execute_result"
    }
   ],
   "source": [
    "family_classification_sequences.head()"
   ]
  },
  {
   "cell_type": "code",
   "execution_count": 6,
   "metadata": {},
   "outputs": [
    {
     "data": {
      "text/html": [
       "<div>\n",
       "<style>\n",
       "    .dataframe thead tr:only-child th {\n",
       "        text-align: right;\n",
       "    }\n",
       "\n",
       "    .dataframe thead th {\n",
       "        text-align: left;\n",
       "    }\n",
       "\n",
       "    .dataframe tbody tr th {\n",
       "        vertical-align: top;\n",
       "    }\n",
       "</style>\n",
       "<table border=\"1\" class=\"dataframe\">\n",
       "  <thead>\n",
       "    <tr style=\"text-align: right;\">\n",
       "      <th></th>\n",
       "      <th>SwissProtAccessionID</th>\n",
       "      <th>LongID</th>\n",
       "      <th>ProteinName</th>\n",
       "      <th>FamilyID</th>\n",
       "      <th>FamilyDescription</th>\n",
       "    </tr>\n",
       "  </thead>\n",
       "  <tbody>\n",
       "    <tr>\n",
       "      <th>count</th>\n",
       "      <td>324018</td>\n",
       "      <td>324018</td>\n",
       "      <td>324018</td>\n",
       "      <td>324018</td>\n",
       "      <td>324018</td>\n",
       "    </tr>\n",
       "    <tr>\n",
       "      <th>unique</th>\n",
       "      <td>287308</td>\n",
       "      <td>295671</td>\n",
       "      <td>56951</td>\n",
       "      <td>7027</td>\n",
       "      <td>6967</td>\n",
       "    </tr>\n",
       "    <tr>\n",
       "      <th>top</th>\n",
       "      <td>Q1X881</td>\n",
       "      <td>POLG_KUNJM</td>\n",
       "      <td>UvrABC system protein B</td>\n",
       "      <td>MMR_HSR1</td>\n",
       "      <td>50S ribosome-binding GTPase</td>\n",
       "    </tr>\n",
       "    <tr>\n",
       "      <th>freq</th>\n",
       "      <td>16</td>\n",
       "      <td>12</td>\n",
       "      <td>1500</td>\n",
       "      <td>3084</td>\n",
       "      <td>3084</td>\n",
       "    </tr>\n",
       "  </tbody>\n",
       "</table>\n",
       "</div>"
      ],
      "text/plain": [
       "       SwissProtAccessionID      LongID              ProteinName  FamilyID  \\\n",
       "count                324018      324018                   324018    324018   \n",
       "unique               287308      295671                    56951      7027   \n",
       "top                  Q1X881  POLG_KUNJM  UvrABC system protein B  MMR_HSR1   \n",
       "freq                     16          12                     1500      3084   \n",
       "\n",
       "                  FamilyDescription  \n",
       "count                        324018  \n",
       "unique                         6967  \n",
       "top     50S ribosome-binding GTPase  \n",
       "freq                           3084  "
      ]
     },
     "execution_count": 6,
     "metadata": {},
     "output_type": "execute_result"
    }
   ],
   "source": [
    "family_classification_metadata.describe()"
   ]
  },
  {
   "cell_type": "markdown",
   "metadata": {},
   "source": [
    "#### Task:\n",
    "    \n",
    "Use your ProtVec embedding from homework 5 to perform protein family classification using RNN.\n",
    "\n",
    "Article with the original research can be found here http://journals.plos.org/plosone/article/file?id=10.1371/journal.pone.0141287&type=printable\n",
    "\n",
    "* use 1000 most frequent families for classification\n",
    "* validate your results on the train-test split\n",
    "* reduce the dimensionality of the protein-space using Stochastic Neighbor Embedding and visualize two most frequent classes\n",
    "* compare your RNN results with SVM\n",
    "* visualization and metrics are up to you"
   ]
  },
  {
   "cell_type": "code",
   "execution_count": 7,
   "metadata": {
    "collapsed": true
   },
   "outputs": [],
   "source": [
    "most_frequent = family_classification_metadata['FamilyID'].value_counts()[:2]\n",
    "index = family_classification_metadata['FamilyID'].isin(most_frequent.index)\n",
    "classes = np.array(family_classification_metadata['FamilyID'][index])"
   ]
  },
  {
   "cell_type": "code",
   "execution_count": 8,
   "metadata": {
    "collapsed": true
   },
   "outputs": [],
   "source": [
    "def vectorize_protein(X):\n",
    "    return np.array([sample.sum(axis=0) for sample in X])"
   ]
  },
  {
   "cell_type": "code",
   "execution_count": 9,
   "metadata": {
    "collapsed": true
   },
   "outputs": [],
   "source": [
    "X = vectorize_protein([protein_to_features(line[0]) for line in np.array(family_classification_sequences[index])])"
   ]
  },
  {
   "cell_type": "code",
   "execution_count": 10,
   "metadata": {
    "collapsed": true
   },
   "outputs": [],
   "source": [
    "tsne = TSNE(n_components=2, random_state=0)\n",
    "XX = tsne.fit_transform(X)"
   ]
  },
  {
   "cell_type": "code",
   "execution_count": 11,
   "metadata": {},
   "outputs": [
    {
     "data": {
      "image/png": "[encoded data removed]",
      "text/plain": [
       "<matplotlib.figure.Figure at 0x7fd45533fbe0>"
      ]
     },
     "metadata": {},
     "output_type": "display_data"
    }
   ],
   "source": [
    "for cl in np.unique(classes):\n",
    "    X_cl = XX[classes == cl]\n",
    "    plt.scatter(X_cl[:, 0], X_cl[:, 1])"
   ]
  },
  {
   "cell_type": "code",
   "execution_count": 12,
   "metadata": {
    "collapsed": true
   },
   "outputs": [],
   "source": [
    "NUM_CLASSES = 1000"
   ]
  },
  {
   "cell_type": "code",
   "execution_count": 13,
   "metadata": {},
   "outputs": [
    {
     "data": {
      "text/plain": [
       "LabelBinarizer(neg_label=0, pos_label=1, sparse_output=False)"
      ]
     },
     "execution_count": 13,
     "metadata": {},
     "output_type": "execute_result"
    }
   ],
   "source": [
    "most_frequent = family_classification_metadata['FamilyID'].value_counts()[:NUM_CLASSES]\n",
    "index = family_classification_metadata['FamilyID'].isin(most_frequent.index)\n",
    "classes = np.array(family_classification_metadata['FamilyID'][index])\n",
    "\n",
    "lb = LabelBinarizer()\n",
    "lb.fit(classes)"
   ]
  },
  {
   "cell_type": "code",
   "execution_count": 14,
   "metadata": {},
   "outputs": [
    {
     "data": {
      "text/plain": [
       "(261149, 1000)"
      ]
     },
     "execution_count": 14,
     "metadata": {},
     "output_type": "execute_result"
    }
   ],
   "source": [
    "y = lb.transform(classes)\n",
    "y.shape # one-hot-encoded labels"
   ]
  },
  {
   "cell_type": "code",
   "execution_count": 15,
   "metadata": {
    "collapsed": true
   },
   "outputs": [],
   "source": [
    "def get_labels(y):\n",
    "    return np.argmax(y, axis=1)"
   ]
  },
  {
   "cell_type": "code",
   "execution_count": 16,
   "metadata": {},
   "outputs": [
    {
     "data": {
      "text/plain": [
       "(261149, (316, 100))"
      ]
     },
     "execution_count": 16,
     "metadata": {},
     "output_type": "execute_result"
    }
   ],
   "source": [
    "X = [protein_to_features(line[0]) for line in np.array(family_classification_sequences[index])]\n",
    "len(X), X[0].shape # samples in format [n_codones, embed_size]"
   ]
  },
  {
   "cell_type": "code",
   "execution_count": 17,
   "metadata": {},
   "outputs": [],
   "source": [
    "sss = StratifiedShuffleSplit(n_splits=1, random_state=0, test_size=0.2)\n",
    "\n",
    "for train_index, test_index in sss.split(X, classes):\n",
    "    X_train, X_test = [X[i] for i in train_index], [X[i] for i in test_index]\n",
    "    y_train, y_test = y[train_index], y[test_index]"
   ]
  },
  {
   "cell_type": "code",
   "execution_count": 18,
   "metadata": {},
   "outputs": [
    {
     "data": {
      "text/plain": [
       "<matplotlib.axes._subplots.AxesSubplot at 0x7fd35317bf98>"
      ]
     },
     "execution_count": 18,
     "metadata": {},
     "output_type": "execute_result"
    },
    {
     "data": {
      "image/png": "[encoded data removed]",
      "text/plain": [
       "<matplotlib.figure.Figure at 0x7fd3cfa69198>"
      ]
     },
     "metadata": {},
     "output_type": "display_data"
    }
   ],
   "source": [
    "fig, axs = plt.subplots(ncols=3, figsize=(15,5))\n",
    "axs[0].set_title('y distribution')\n",
    "axs[1].set_title('y_train distribution')\n",
    "axs[2].set_title('y_test distribution')\n",
    "sns.distplot(get_labels(y), ax=axs[0])\n",
    "sns.distplot(get_labels(y_train), ax=axs[1])\n",
    "sns.distplot(get_labels(y_test), ax=axs[2])"
   ]
  },
  {
   "cell_type": "code",
   "execution_count": null,
   "metadata": {},
   "outputs": [],
   "source": [
    "svm_X_train = vectorize_protein(X_train)\n",
    "scaling = StandardScaler().fit(svm_X_train)\n",
    "svm_X_train = scaling.transform(svm_X_train)\n",
    "svm_X_test = scaling.transform(vectorize_protein(X_test))"
   ]
  },
  {
   "cell_type": "code",
   "execution_count": null,
   "metadata": {},
   "outputs": [],
   "source": [
    "clf = svm.SVC(max_iter=1, random_state=0)\n",
    "clf.fit(svm_X_train, get_labels(y_train))\n",
    "svm_prediction = clf.predict(svm_X_test)\n",
    "print('Achieved accuracy via SVM: {}'.format((svm_prediction == get_labels(y_test)).sum() / len(y_test)))"
   ]
  },
  {
   "cell_type": "code",
   "execution_count": 28,
   "metadata": {
    "collapsed": true
   },
   "outputs": [],
   "source": [
    "class Embedding:\n",
    "    def __init__(self, length):\n",
    "        self._length = length\n",
    "        self.dimensions = NUM_EMBED\n",
    "        \n",
    "    def __call__(self, sample):\n",
    "        data = np.zeros((self._length, self.dimensions))\n",
    "        data[:len(sample)] = sample\n",
    "        return data"
   ]
  },
  {
   "cell_type": "code",
   "execution_count": 29,
   "metadata": {
    "collapsed": true
   },
   "outputs": [],
   "source": [
    "length = max(len(sample) for sample in X)\n",
    "embedding = Embedding(length)"
   ]
  },
  {
   "cell_type": "code",
   "execution_count": 30,
   "metadata": {
    "collapsed": true
   },
   "outputs": [],
   "source": [
    "params = AttrDict(\n",
    "    rnn_cell=tf.contrib.rnn.GRUCell,\n",
    "    rnn_hidden= 2 * NUM_EMBED,\n",
    "    optimizer=tf.train.RMSPropOptimizer(0.002),\n",
    "    batch_size=20,\n",
    "    gradient_clipping=100,\n",
    "    seq_length=length,\n",
    "    embed_length=embedding.dimensions\n",
    ")"
   ]
  },
  {
   "cell_type": "code",
   "execution_count": 31,
   "metadata": {
    "collapsed": true
   },
   "outputs": [],
   "source": [
    "def preprocess_batched(X, y, length, embedding, batch_size):\n",
    "    iterator = iter(zip(X, y))\n",
    "    while True:\n",
    "        data = np.zeros((batch_size, length, embedding.dimensions))\n",
    "        target = np.zeros((batch_size, NUM_CLASSES))\n",
    "        for index in range(batch_size):\n",
    "            text, label = next(iterator)\n",
    "            data[index] = embedding(text)\n",
    "            target[index] = label\n",
    "        yield data, target"
   ]
  },
  {
   "cell_type": "code",
   "execution_count": 44,
   "metadata": {
    "collapsed": true
   },
   "outputs": [],
   "source": [
    "batches = preprocess_batched(X_train, y_train, length, embedding, params.batch_size)"
   ]
  },
  {
   "cell_type": "code",
   "execution_count": 45,
   "metadata": {
    "collapsed": true
   },
   "outputs": [],
   "source": [
    "class SequenceClassificationModel:\n",
    "    def __init__(self, params):\n",
    "        self.params = params\n",
    "        self._create_placeholders()\n",
    "        self.prediction\n",
    "        self.cost\n",
    "        self.error\n",
    "        self.optimize\n",
    "        self._create_summaries()\n",
    "    \n",
    "    def _create_placeholders(self):\n",
    "        with tf.name_scope(\"data\"):\n",
    "            self.data = tf.placeholder(tf.float32, [None, self.params.seq_length, self.params.embed_length])\n",
    "            self.target = tf.placeholder(tf.float32, [None, NUM_CLASSES])\n",
    "  \n",
    "    def _create_summaries(self):\n",
    "        with tf.name_scope(\"summaries\"):\n",
    "            tf.summary.scalar('loss', self.cost)\n",
    "            tf.summary.scalar('error', self.error)\n",
    "            self.summary = tf.summary.merge_all()\n",
    "            saver = tf.train.Saver()\n",
    "            \n",
    "    @lazy\n",
    "    def length(self):\n",
    "        with tf.name_scope(\"seq_length\"):\n",
    "            used = tf.sign(tf.reduce_max(tf.abs(self.data), reduction_indices=2))\n",
    "            length = tf.reduce_sum(used, reduction_indices=1)\n",
    "            length = tf.cast(length, tf.int32)\n",
    "        return length\n",
    "    \n",
    "    @lazy\n",
    "    def prediction(self):\n",
    "        with tf.name_scope(\"recurrent_layer\"):\n",
    "            output, _ = tf.nn.dynamic_rnn(\n",
    "                self.params.rnn_cell(self.params.rnn_hidden),\n",
    "                self.data,\n",
    "                dtype=tf.float32,\n",
    "                sequence_length=self.length\n",
    "            )\n",
    "        last = self._last_relevant(output, self.length)\n",
    "\n",
    "        with tf.name_scope(\"softmax_layer\"):\n",
    "            num_classes = int(self.target.get_shape()[1])\n",
    "            weight = tf.Variable(tf.truncated_normal(\n",
    "                [self.params.rnn_hidden, num_classes], stddev=0.01))\n",
    "            bias = tf.Variable(tf.constant(0.1, shape=[num_classes]))\n",
    "            prediction = tf.nn.softmax(tf.matmul(last, weight) + bias)\n",
    "        return prediction\n",
    "    \n",
    "    @lazy\n",
    "    def cost(self):\n",
    "        cross_entropy = -tf.reduce_sum(self.target * tf.log(self.prediction))\n",
    "        return cross_entropy\n",
    "    \n",
    "    @lazy\n",
    "    def error(self):\n",
    "        self.mistakes = tf.not_equal(\n",
    "            tf.argmax(self.target, 1), tf.argmax(self.prediction, 1))\n",
    "        return tf.reduce_mean(tf.cast(self.mistakes, tf.float32))\n",
    "    \n",
    "    @lazy\n",
    "    def optimize(self):\n",
    "        with tf.name_scope(\"optimization\"):\n",
    "            gradient = self.params.optimizer.compute_gradients(self.cost)\n",
    "            if self.params.gradient_clipping:\n",
    "                limit = self.params.gradient_clipping\n",
    "                gradient = [\n",
    "                    (tf.clip_by_value(g, -limit, limit), v)\n",
    "                    if g is not None else (None, v)\n",
    "                    for g, v in gradient]\n",
    "            optimize = self.params.optimizer.apply_gradients(gradient)\n",
    "        return optimize\n",
    "    \n",
    "    @staticmethod\n",
    "    def _last_relevant(output, length):\n",
    "        with tf.name_scope(\"last_relevant\"):\n",
    "            batch_size = tf.shape(output)[0]\n",
    "            max_length = int(output.get_shape()[1])\n",
    "            output_size = int(output.get_shape()[2])\n",
    "            index = tf.range(0, batch_size) * max_length + (length - 1)\n",
    "            flat = tf.reshape(output, [-1, output_size])\n",
    "            relevant = tf.gather(flat, index)\n",
    "        return relevant"
   ]
  },
  {
   "cell_type": "code",
   "execution_count": 46,
   "metadata": {},
   "outputs": [
    {
     "name": "stderr",
     "output_type": "stream",
     "text": [
      "/usr/local/lib/python3.5/dist-packages/tensorflow/python/ops/gradients_impl.py:93: UserWarning: Converting sparse IndexedSlices to a dense Tensor of unknown shape. This may consume a large amount of memory.\n",
      "  \"Converting sparse IndexedSlices to a dense Tensor of unknown shape. \"\n"
     ]
    }
   ],
   "source": [
    "tf.reset_default_graph()\n",
    "model = SequenceClassificationModel(params)"
   ]
  },
  {
   "cell_type": "code",
   "execution_count": null,
   "metadata": {},
   "outputs": [
    {
     "name": "stdout",
     "output_type": "stream",
     "text": [
      "1: 100.0%\n",
      "2: 100.0%\n",
      "3: 100.0%\n",
      "4: 100.0%\n",
      "5: 100.0%\n",
      "6: 100.0%\n",
      "7: 100.0%\n",
      "8: 100.0%\n",
      "9: 100.0%\n",
      "10: 100.0%\n",
      "11: 100.0%\n",
      "12: 100.0%\n",
      "13: 100.0%\n",
      "14: 100.0%\n",
      "15: 95.0%\n",
      "16: 100.0%\n",
      "17: 100.0%\n",
      "18: 100.0%\n",
      "19: 100.0%\n",
      "20: 100.0%\n",
      "21: 95.0%\n",
      "22: 100.0%\n",
      "23: 100.0%\n",
      "24: 100.0%\n",
      "25: 100.0%\n",
      "26: 100.0%\n",
      "27: 95.0%\n",
      "28: 100.0%\n",
      "29: 100.0%\n",
      "30: 100.0%\n",
      "31: 100.0%\n",
      "32: 100.0%\n",
      "33: 100.0%\n",
      "34: 100.0%\n",
      "35: 100.0%\n",
      "36: 100.0%\n",
      "37: 100.0%\n",
      "38: 95.0%\n",
      "39: 90.0%\n",
      "40: 100.0%\n",
      "41: 100.0%\n",
      "42: 100.0%\n",
      "43: 100.0%\n",
      "44: 95.0%\n",
      "45: 100.0%\n",
      "46: 100.0%\n",
      "47: 100.0%\n",
      "48: 100.0%\n",
      "49: 100.0%\n",
      "50: 100.0%\n",
      "51: 100.0%\n",
      "52: 95.0%\n",
      "53: 95.0%\n",
      "54: 100.0%\n",
      "55: 100.0%\n",
      "56: 100.0%\n",
      "57: 100.0%\n",
      "58: 100.0%\n",
      "59: 100.0%\n",
      "60: 100.0%\n",
      "61: 95.0%\n",
      "62: 100.0%\n",
      "63: 100.0%\n",
      "64: 100.0%\n",
      "65: 95.0%\n",
      "66: 100.0%\n",
      "67: 100.0%\n",
      "68: 95.0%\n",
      "69: 100.0%\n",
      "70: 100.0%\n",
      "71: 100.0%\n",
      "72: 100.0%\n",
      "73: 100.0%\n",
      "74: 100.0%\n",
      "75: 100.0%\n",
      "76: 100.0%\n",
      "77: 100.0%\n",
      "78: 100.0%\n",
      "79: 95.0%\n",
      "80: 100.0%\n",
      "81: 100.0%\n",
      "82: 100.0%\n",
      "83: 100.0%\n",
      "84: 100.0%\n",
      "85: 100.0%\n",
      "86: 100.0%\n",
      "87: 95.0%\n",
      "88: 100.0%\n",
      "89: 100.0%\n",
      "90: 100.0%\n",
      "91: 100.0%\n",
      "92: 100.0%\n",
      "93: 95.0%\n",
      "94: 100.0%\n",
      "95: 95.0%\n",
      "96: 100.0%\n",
      "97: 100.0%\n",
      "98: 100.0%\n",
      "99: 100.0%\n",
      "100: 100.0%\n",
      "101: 100.0%\n",
      "102: 100.0%\n",
      "103: 100.0%\n",
      "104: 100.0%\n",
      "105: 100.0%\n",
      "106: 100.0%\n",
      "107: 100.0%\n",
      "108: 100.0%\n",
      "109: 100.0%\n",
      "110: 100.0%\n",
      "111: 100.0%\n",
      "112: 95.0%\n",
      "113: 100.0%\n",
      "114: 100.0%\n",
      "115: 100.0%\n",
      "116: 100.0%\n",
      "117: 100.0%\n",
      "118: 100.0%\n",
      "119: 100.0%\n",
      "120: 100.0%\n",
      "121: 100.0%\n",
      "122: 100.0%\n",
      "123: 95.0%\n",
      "124: 100.0%\n",
      "125: 100.0%\n",
      "126: 100.0%\n",
      "127: 100.0%\n",
      "128: 100.0%\n",
      "129: 100.0%\n",
      "130: 100.0%\n",
      "131: 100.0%\n",
      "132: 100.0%\n",
      "133: 100.0%\n",
      "134: 100.0%\n",
      "135: 95.0%\n",
      "136: 95.0%\n",
      "137: 95.0%\n",
      "138: 100.0%\n",
      "139: 100.0%\n",
      "140: 100.0%\n",
      "141: 100.0%\n",
      "142: 95.0%\n",
      "143: 100.0%\n",
      "144: 100.0%\n",
      "145: 100.0%\n",
      "146: 95.0%\n",
      "147: 100.0%\n",
      "148: 95.0%\n",
      "149: 100.0%\n",
      "150: 100.0%\n",
      "151: 100.0%\n",
      "152: 100.0%\n",
      "153: 100.0%\n",
      "154: 95.0%\n",
      "155: 100.0%\n",
      "156: 100.0%\n",
      "157: 100.0%\n",
      "158: 95.0%\n",
      "159: 100.0%\n",
      "160: 100.0%\n",
      "161: 100.0%\n",
      "162: 100.0%\n",
      "163: 95.0%\n",
      "164: 100.0%\n",
      "165: 95.0%\n",
      "166: 100.0%\n",
      "167: 100.0%\n",
      "168: 100.0%\n",
      "169: 100.0%\n",
      "170: 100.0%\n",
      "171: 100.0%\n",
      "172: 100.0%\n",
      "173: 100.0%\n",
      "174: 100.0%\n",
      "175: 100.0%\n",
      "176: 100.0%\n",
      "177: 100.0%\n",
      "178: 95.0%\n",
      "179: 100.0%\n",
      "180: 100.0%\n",
      "181: 100.0%\n",
      "182: 100.0%\n",
      "183: 100.0%\n",
      "184: 100.0%\n",
      "185: 100.0%\n",
      "186: 100.0%\n",
      "187: 100.0%\n",
      "188: 95.0%\n",
      "189: 100.0%\n",
      "190: 100.0%\n",
      "191: 100.0%\n",
      "192: 100.0%\n",
      "193: 100.0%\n",
      "194: 100.0%\n",
      "195: 95.0%\n",
      "196: 95.0%\n",
      "197: 100.0%\n",
      "198: 100.0%\n",
      "199: 100.0%\n",
      "200: 100.0%\n",
      "201: 100.0%\n",
      "202: 100.0%\n",
      "203: 95.0%\n",
      "204: 100.0%\n",
      "205: 100.0%\n",
      "206: 100.0%\n",
      "207: 100.0%\n",
      "208: 100.0%\n",
      "209: 95.0%\n",
      "210: 95.0%\n",
      "211: 100.0%\n",
      "212: 100.0%\n",
      "213: 100.0%\n",
      "214: 100.0%\n",
      "215: 100.0%\n",
      "216: 100.0%\n",
      "217: 100.0%\n",
      "218: 95.0%\n",
      "219: 100.0%\n",
      "220: 100.0%\n",
      "221: 95.0%\n",
      "222: 100.0%\n",
      "223: 95.0%\n",
      "224: 100.0%\n",
      "225: 90.0%\n",
      "226: 100.0%\n",
      "227: 100.0%\n",
      "228: 100.0%\n",
      "229: 100.0%\n",
      "230: 100.0%\n",
      "231: 100.0%\n",
      "232: 100.0%\n",
      "233: 100.0%\n",
      "234: 100.0%\n",
      "235: 100.0%\n",
      "236: 100.0%\n",
      "237: 100.0%\n",
      "238: 100.0%\n",
      "239: 100.0%\n",
      "240: 100.0%\n",
      "241: 100.0%\n"
     ]
    }
   ],
   "source": [
    "with tf.Session() as sess:\n",
    "    sess.run(tf.global_variables_initializer())\n",
    "    summary_writer = tf.summary.FileWriter('graphs', sess.graph)\n",
    "    for index, batch in enumerate(batches):\n",
    "        feed = {model.data: batch[0], model.target: batch[1]}\n",
    "        error, _, summary_str = sess.run([model.error, model.optimize, model.summary], feed)\n",
    "        print('{}: {:3.1f}%'.format(index + 1, 100 * error))\n",
    "        if index % 100 == 0:\n",
    "            summary_writer.add_summary(summary_str, index)"
   ]
  },
  {
   "cell_type": "code",
   "execution_count": null,
   "metadata": {
    "collapsed": true
   },
   "outputs": [],
   "source": []
  }
 ],
 "metadata": {
  "kernelspec": {
   "display_name": "Python 3",
   "language": "python",
   "name": "python3"
  },
  "language_info": {
   "codemirror_mode": {
    "name": "ipython",
    "version": 3
   },
   "file_extension": ".py",
   "mimetype": "text/x-python",
   "name": "python",
   "nbconvert_exporter": "python",
   "pygments_lexer": "ipython3",
   "version": "3.5.2"
  }
 },
 "nbformat": 4,
 "nbformat_minor": 2
}
